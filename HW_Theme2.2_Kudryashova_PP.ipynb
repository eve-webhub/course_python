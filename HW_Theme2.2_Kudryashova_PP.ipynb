{
 "cells": [
  {
   "cell_type": "markdown",
   "id": "4e7297b7-1dbf-431d-abd7-ad163c3d6253",
   "metadata": {},
   "source": [
    "### Задание 1"
   ]
  },
  {
   "cell_type": "code",
   "execution_count": 1,
   "id": "e4e3aa35-1f79-47d1-984b-eb4e7d329d56",
   "metadata": {},
   "outputs": [
    {
     "name": "stdout",
     "output_type": "stream",
     "text": [
      "{98, 35, 15, 213, 54, 119}\n"
     ]
    }
   ],
   "source": [
    "ids = {'user1': [213, 213, 213, 15, 213],\n",
    "'user2': [54, 54, 119, 119, 119],\n",
    "'user3': [213, 98, 98, 35]}\n",
    "\n",
    "print(set(list(ids['user1']) + list(ids['user2']) + list(ids['user3'])))"
   ]
  },
  {
   "cell_type": "markdown",
   "id": "b550fc4c-2ebc-43bb-9e68-fa1d5f21db07",
   "metadata": {},
   "source": [
    "### Задание 2"
   ]
  },
  {
   "cell_type": "code",
   "execution_count": 3,
   "id": "99537a99-35ce-4202-ab50-f3379f92cbb4",
   "metadata": {},
   "outputs": [
    {
     "name": "stdout",
     "output_type": "stream",
     "text": [
      "Поисковых запросов, содержащих 2 слов(а):  42.86 %\n",
      "Поисковых запросов, содержащих 3 слов(а):  57.14 %\n"
     ]
    }
   ],
   "source": [
    "queries = [\n",
    "'смотреть сериалы онлайн',\n",
    "'новости спорта',\n",
    "'афиша кино',\n",
    "'курс доллара',\n",
    "'сериалы этим летом',\n",
    "'курс по питону',\n",
    "'сериалы про спорт',\n",
    "]\n",
    "\n",
    "two_wrds = 0\n",
    "three_wrds = 0\n",
    "\n",
    "for s in queries:\n",
    "   # print(s)\n",
    "    if s.count(' ') == 1:\n",
    "        two_wrds += 1\n",
    "    elif s.count(' ') == 2:\n",
    "        three_wrds += 1\n",
    "\n",
    "print('Поисковых запросов, содержащих 2 слов(а): ', round(two_wrds * 100 / len(queries), 2), '%', end = '\\n')\n",
    "print('Поисковых запросов, содержащих 3 слов(а): ', round(three_wrds * 100 / len(queries), 2), '%', end = '\\n')"
   ]
  },
  {
   "cell_type": "code",
   "execution_count": null,
   "id": "83365a7e-fda6-4378-893d-8361649d9a8d",
   "metadata": {},
   "outputs": [],
   "source": []
  }
 ],
 "metadata": {
  "kernelspec": {
   "display_name": "Python 3 (ipykernel)",
   "language": "python",
   "name": "python3"
  },
  "language_info": {
   "codemirror_mode": {
    "name": "ipython",
    "version": 3
   },
   "file_extension": ".py",
   "mimetype": "text/x-python",
   "name": "python",
   "nbconvert_exporter": "python",
   "pygments_lexer": "ipython3",
   "version": "3.12.7"
  }
 },
 "nbformat": 4,
 "nbformat_minor": 5
}
