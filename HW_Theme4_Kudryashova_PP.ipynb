{
 "cells": [
  {
   "cell_type": "markdown",
   "id": "4e7297b7-1dbf-431d-abd7-ad163c3d6253",
   "metadata": {},
   "source": [
    "### Задание 1"
   ]
  },
  {
   "cell_type": "code",
   "execution_count": 132,
   "id": "8ee533f4-d370-4cad-9647-6277d05ee230",
   "metadata": {},
   "outputs": [
    {
     "name": "stdout",
     "output_type": "stream",
     "text": [
      "1840e0b9d4 Продукты\n",
      "4e4f90fcfb Электроника\n"
     ]
    }
   ],
   "source": [
    "import json\n",
    "purchases = {}\n",
    "keys_ = []\n",
    "values_ = []\n",
    "i, j = 0, 0\n",
    "with open('purchase_log.txt', 'r', encoding = 'utf-8') as f:\n",
    "    for line in f:\n",
    "        line = line.strip()\n",
    "        dict_ = json.loads(line)\n",
    "        keys_.append(dict_['user_id'])\n",
    "        values_.append(dict_['category'])\n",
    "        \n",
    "        purchases = dict(zip(keys, values))  \n",
    "        \n",
    "  #      print(purchases)\n",
    "  #      i += 1\n",
    "  #      if i > 100:\n",
    "  #          break\n",
    "\n",
    "del purchases['user_id']\n",
    "\n",
    "for key, value in purchases.items():\n",
    "    print(key, value)\n",
    "    j += 1\n",
    "    if j > 1:\n",
    "        break"
   ]
  },
  {
   "cell_type": "code",
   "execution_count": null,
   "id": "83365a7e-fda6-4378-893d-8361649d9a8d",
   "metadata": {},
   "outputs": [],
   "source": []
  }
 ],
 "metadata": {
  "kernelspec": {
   "display_name": "Python 3 (ipykernel)",
   "language": "python",
   "name": "python3"
  },
  "language_info": {
   "codemirror_mode": {
    "name": "ipython",
    "version": 3
   },
   "file_extension": ".py",
   "mimetype": "text/x-python",
   "name": "python",
   "nbconvert_exporter": "python",
   "pygments_lexer": "ipython3",
   "version": "3.12.7"
  }
 },
 "nbformat": 4,
 "nbformat_minor": 5
}
