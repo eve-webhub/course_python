{
 "cells": [
  {
   "cell_type": "markdown",
   "id": "78f505b9-d561-48a9-842d-9a0bf071e0b9",
   "metadata": {},
   "source": [
    "## Задание 1. Получение данных из публичного API"
   ]
  },
  {
   "cell_type": "code",
   "execution_count": 5,
   "id": "2765cc01-59b7-43a8-80e7-ed29545d02a6",
   "metadata": {},
   "outputs": [
    {
     "name": "stdin",
     "output_type": "stream",
     "text": [
      "Введите сколько постов отобразить:  5\n"
     ]
    },
    {
     "name": "stdout",
     "output_type": "stream",
     "text": [
      "{'userId': 1, 'id': 1, 'title': 'sunt aut facere repellat provident occaecati excepturi optio reprehenderit', 'body': 'quia et suscipit\\nsuscipit recusandae consequuntur expedita et cum\\nreprehenderit molestiae ut ut quas totam\\nnostrum rerum est autem sunt rem eveniet architecto'}\n",
      "{'userId': 1, 'id': 2, 'title': 'qui est esse', 'body': 'est rerum tempore vitae\\nsequi sint nihil reprehenderit dolor beatae ea dolores neque\\nfugiat blanditiis voluptate porro vel nihil molestiae ut reiciendis\\nqui aperiam non debitis possimus qui neque nisi nulla'}\n",
      "{'userId': 1, 'id': 3, 'title': 'ea molestias quasi exercitationem repellat qui ipsa sit aut', 'body': 'et iusto sed quo iure\\nvoluptatem occaecati omnis eligendi aut ad\\nvoluptatem doloribus vel accusantium quis pariatur\\nmolestiae porro eius odio et labore et velit aut'}\n",
      "{'userId': 1, 'id': 4, 'title': 'eum et est occaecati', 'body': 'ullam et saepe reiciendis voluptatem adipisci\\nsit amet autem assumenda provident rerum culpa\\nquis hic commodi nesciunt rem tenetur doloremque ipsam iure\\nquis sunt voluptatem rerum illo velit'}\n",
      "{'userId': 1, 'id': 5, 'title': 'nesciunt quas odio', 'body': 'repudiandae veniam quaerat sunt sed\\nalias aut fugiat sit autem sed est\\nvoluptatem omnis possimus esse voluptatibus quis\\nest aut tenetur dolor neque'}\n"
     ]
    }
   ],
   "source": [
    "import requests\n",
    "\n",
    "class JSONPlaceholderAPI:\n",
    "    BASE_URL = 'https://jsonplaceholder.typicode.com/posts'\n",
    "\n",
    "    def __init__(self):\n",
    "        self.session = requests.Session()\n",
    "\n",
    "    def get_data(self, post_num):\n",
    "        url = f'{self.BASE_URL}/{post_num}'\n",
    "        response = self.session.get(url)\n",
    "        return response.json()\n",
    "\n",
    "    def display_posts(self, last_post_num):\n",
    "        for post_number in range(1, last_post_num + 1):\n",
    "            data = self.get_data(post_number)\n",
    "            print(data)\n",
    "\n",
    "\n",
    "api = JSONPlaceholderAPI()\n",
    "input_last_post_num = input('Введите сколько постов отобразить: ')\n",
    "api.display_posts(int(input_last_post_num))"
   ]
  },
  {
   "cell_type": "markdown",
   "id": "01566bd1-4160-45e4-9ed8-2cdefcac33d9",
   "metadata": {},
   "source": [
    "## Задание 2. Работа с параметрами запроса"
   ]
  },
  {
   "cell_type": "code",
   "execution_count": 15,
   "id": "40146276-2881-44fd-8269-4232a02870c5",
   "metadata": {},
   "outputs": [
    {
     "name": "stdin",
     "output_type": "stream",
     "text": [
      "Введите город строчными английскими буквами, например (moscow):  vladivostok\n"
     ]
    },
    {
     "name": "stdout",
     "output_type": "stream",
     "text": [
      "{'temp': -13, 'desc': 'overcast clouds'}\n"
     ]
    }
   ],
   "source": [
    "import requests\n",
    "\n",
    "BASE_URL = 'http://api.openweathermap.org/data/2.5'\n",
    "APPID = 'bc123f3a7c1f919964fbc7d739962233'\n",
    "city = input('Введите город строчными английскими буквами, например (moscow): ')\n",
    "\n",
    "def to_celsius(fah):\n",
    "    cel = fah - 273.15\n",
    "    return round(cel)\n",
    "    \n",
    "def getWeather():\n",
    "    weatherInfo = {}\n",
    "    url = f'{BASE_URL}/find?q={city}&type=like&APPID={APPID}'  \n",
    "    #url = 'http://api.openweathermap.org/data/2.5/find?q=moscow&type=like&APPID=bc123f3a7c1f919964fbc7d739962233'\n",
    "    res = requests.get(url)\n",
    "    data = res.json()\n",
    " \n",
    "    weatherInfo['temp'] = to_celsius(data['list'][0]['main']['temp'])\n",
    "    weatherInfo['desc'] = data['list'][0]['weather'][0]['description']\n",
    "    \n",
    "    return weatherInfo\n",
    "\n",
    "\n",
    "print(getWeather())"
   ]
  },
  {
   "cell_type": "code",
   "execution_count": null,
   "id": "f21bea61-01ff-4d05-8df6-401be8d38713",
   "metadata": {},
   "outputs": [],
   "source": []
  }
 ],
 "metadata": {
  "kernelspec": {
   "display_name": "Python 3 (ipykernel)",
   "language": "python",
   "name": "python3"
  },
  "language_info": {
   "codemirror_mode": {
    "name": "ipython",
    "version": 3
   },
   "file_extension": ".py",
   "mimetype": "text/x-python",
   "name": "python",
   "nbconvert_exporter": "python",
   "pygments_lexer": "ipython3",
   "version": "3.12.7"
  }
 },
 "nbformat": 4,
 "nbformat_minor": 5
}
