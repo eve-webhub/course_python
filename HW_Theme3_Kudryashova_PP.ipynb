{
 "cells": [
  {
   "cell_type": "markdown",
   "id": "4e7297b7-1dbf-431d-abd7-ad163c3d6253",
   "metadata": {},
   "source": [
    "### Задание 1"
   ]
  },
  {
   "cell_type": "code",
   "execution_count": 3,
   "id": "e4e3aa35-1f79-47d1-984b-eb4e7d329d56",
   "metadata": {},
   "outputs": [
    {
     "name": "stdin",
     "output_type": "stream",
     "text": [
      "Введите начальное значение:  4\n",
      "Введите конечное значение:  2\n"
     ]
    },
    {
     "name": "stdout",
     "output_type": "stream",
     "text": [
      "9\n"
     ]
    }
   ],
   "source": [
    "def sum_distance(frm, to):\n",
    "    if frm < to:\n",
    "        pass\n",
    "    else:\n",
    "        frm, to = to, frm\n",
    "\n",
    "    sum = 0\n",
    "    for n in range(frm, to + 1):\n",
    "        sum += n\n",
    "\n",
    "    print(sum)\n",
    "\n",
    "frm = int(input('Введите начальное значение: '))\n",
    "to = int(input('Введите конечное значение: '))\n",
    "\n",
    "sum_distance(frm, to)\n",
    "    \n",
    "    "
   ]
  },
  {
   "cell_type": "markdown",
   "id": "b550fc4c-2ebc-43bb-9e68-fa1d5f21db07",
   "metadata": {},
   "source": [
    "### Задание 2"
   ]
  },
  {
   "cell_type": "code",
   "execution_count": 5,
   "id": "99537a99-35ce-4202-ab50-f3379f92cbb4",
   "metadata": {},
   "outputs": [
    {
     "name": "stdin",
     "output_type": "stream",
     "text": [
      "Введите строку для обрезки:  Show must go on !\n",
      "Введите сколько символов обрезать слева:  9\n",
      "Введите сколько раз повторить обрезанную строку:  3\n"
     ]
    },
    {
     "name": "stdout",
     "output_type": "stream",
     "text": [
      " go on ! go on ! go on !\n"
     ]
    }
   ],
   "source": [
    "def trim_and_repeat(s, offset, repetitions):\n",
    "    new_s = s[offset:] * repetitions\n",
    "    print(new_s)\n",
    "\n",
    "s = input('Введите строку для обрезки: ')\n",
    "ost = int(input('Введите сколько символов обрезать слева: '))\n",
    "reps = int(input('Введите сколько раз повторить обрезанную строку: '))\n",
    "\n",
    "trim_and_repeat(s, ost, reps)\n"
   ]
  },
  {
   "cell_type": "code",
   "execution_count": null,
   "id": "83365a7e-fda6-4378-893d-8361649d9a8d",
   "metadata": {},
   "outputs": [],
   "source": []
  }
 ],
 "metadata": {
  "kernelspec": {
   "display_name": "Python 3 (ipykernel)",
   "language": "python",
   "name": "python3"
  },
  "language_info": {
   "codemirror_mode": {
    "name": "ipython",
    "version": 3
   },
   "file_extension": ".py",
   "mimetype": "text/x-python",
   "name": "python",
   "nbconvert_exporter": "python",
   "pygments_lexer": "ipython3",
   "version": "3.12.7"
  }
 },
 "nbformat": 4,
 "nbformat_minor": 5
}
