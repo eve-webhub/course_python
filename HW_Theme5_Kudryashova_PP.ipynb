{
 "cells": [
  {
   "cell_type": "markdown",
   "id": "4e7297b7-1dbf-431d-abd7-ad163c3d6253",
   "metadata": {},
   "source": [
    "### Задание 1"
   ]
  },
  {
   "cell_type": "code",
   "execution_count": 22,
   "id": "8ee533f4-d370-4cad-9647-6277d05ee230",
   "metadata": {},
   "outputs": [
    {
     "name": "stdout",
     "output_type": "stream",
     "text": [
      "Изданию  The Moscow Times  с форматом времени -  Wednesday, October 2, 2002 , соответствует объект datetime: \n",
      "2002-10-02 <class 'datetime.date'> \n",
      "\n",
      "Изданию  The Guardian  с форматом времени -  Friday, 11.10.13 , соответствует объект datetime: \n",
      "2013-10-11 <class 'datetime.date'> \n",
      "\n",
      "Изданию  Daily News  с форматом времени -  Thursday, 18 August 1977 , соответствует объект datetime: \n",
      "1977-08-18 <class 'datetime.date'> \n",
      "\n"
     ]
    }
   ],
   "source": [
    "from datetime import datetime, date\n",
    "\n",
    "dt_dict = {\n",
    "    \"The Moscow Times\": \"Wednesday, October 2, 2002\", \n",
    "    \"The Guardian\": \"Friday, 11.10.13\", \n",
    "    \"Daily News\": \"Thursday, 18 August 1977\"\n",
    "}\n",
    "\n",
    "dt_format = [\n",
    "    \"%A, %B %d, %Y\",\n",
    "    \"%A, %d.%m.%y\",\n",
    "    \"%A, %d %B %Y\"\n",
    "    ]\n",
    "\n",
    "dt = []\n",
    "\n",
    "i = 0\n",
    "\n",
    "for paper in dt_dict:\n",
    "   \n",
    "    dt.append(datetime.strptime(dt_dict[paper], dt_format[i]))\n",
    "    \n",
    "    print('Изданию ', paper, ' с форматом времени - ', dt_dict[paper], ', соответствует объект datetime: ')\n",
    "    print(datetime.date(dt[i]), type(datetime.date(dt[i])), '\\n')\n",
    "    \n",
    "    i += 1\n"
   ]
  },
  {
   "cell_type": "markdown",
   "id": "bbe34edd-f26d-432b-a5d3-d64a27194750",
   "metadata": {},
   "source": [
    "### Задание 2"
   ]
  },
  {
   "cell_type": "code",
   "execution_count": 27,
   "id": "c092500c-98ea-4187-8dcd-95ae887e14c1",
   "metadata": {},
   "outputs": [
    {
     "name": "stdout",
     "output_type": "stream",
     "text": [
      "['2022-01-01', '2022-01-02', '2022-01-03']\n"
     ]
    }
   ],
   "source": [
    "from datetime import datetime, timedelta\n",
    "\n",
    "def date_range(start_date, end_date):\n",
    "    \n",
    "    try:\n",
    "        start_date_dt = datetime.strptime(start_date, '%Y-%m-%d')\n",
    "        end_date_dt = datetime.strptime(end_date, '%Y-%m-%d')\n",
    "        between_dt = start_date_dt\n",
    "        date_list = []\n",
    "\n",
    "        while between_dt <= end_date_dt:\n",
    "            date_list.append(between_dt.strftime('%Y-%m-%d'))\n",
    "            between_dt += timedelta(days=1)  \n",
    "    \n",
    "        print(date_list)\n",
    "    \n",
    "    except:\n",
    "        print([])   \n",
    "    \n",
    "date_range('2022-01-01', '2022-01-03')"
   ]
  },
  {
   "cell_type": "code",
   "execution_count": 29,
   "id": "8144c14a-0d3b-4005-a20d-48ca15f5672f",
   "metadata": {},
   "outputs": [
    {
     "name": "stdout",
     "output_type": "stream",
     "text": [
      "[]\n"
     ]
    }
   ],
   "source": [
    "date_range('2022-01-03', '2022-01-01')"
   ]
  },
  {
   "cell_type": "code",
   "execution_count": 31,
   "id": "3c8a0137-1ae4-4d18-aa7f-5048fe55bee9",
   "metadata": {},
   "outputs": [
    {
     "name": "stdout",
     "output_type": "stream",
     "text": [
      "[]\n"
     ]
    }
   ],
   "source": [
    "date_range('2022-02-30', '2022-02-31')"
   ]
  },
  {
   "cell_type": "code",
   "execution_count": null,
   "id": "048d3ac4-a635-41c5-a11b-9a9a8db4811c",
   "metadata": {},
   "outputs": [],
   "source": []
  }
 ],
 "metadata": {
  "kernelspec": {
   "display_name": "Python 3 (ipykernel)",
   "language": "python",
   "name": "python3"
  },
  "language_info": {
   "codemirror_mode": {
    "name": "ipython",
    "version": 3
   },
   "file_extension": ".py",
   "mimetype": "text/x-python",
   "name": "python",
   "nbconvert_exporter": "python",
   "pygments_lexer": "ipython3",
   "version": "3.12.7"
  }
 },
 "nbformat": 4,
 "nbformat_minor": 5
}
