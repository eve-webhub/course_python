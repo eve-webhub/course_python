{
 "cells": [
  {
   "cell_type": "markdown",
   "id": "4e7297b7-1dbf-431d-abd7-ad163c3d6253",
   "metadata": {},
   "source": [
    "### Задание 1"
   ]
  },
  {
   "cell_type": "code",
   "execution_count": 60,
   "id": "77c3e181-250b-49e5-845a-edc5865c9869",
   "metadata": {},
   "outputs": [
    {
     "name": "stdin",
     "output_type": "stream",
     "text": [
      "Enter word:  test\n"
     ]
    },
    {
     "name": "stdout",
     "output_type": "stream",
     "text": [
      "es\n"
     ]
    }
   ],
   "source": [
    "word = input(\"Enter word: \")\n",
    "if len(word) % 2 == 0:\n",
    "    print(word[len(word)//2-1] + word[len(word)//2])\n",
    "else:\n",
    "    print(word[len(word)//2])"
   ]
  },
  {
   "cell_type": "markdown",
   "id": "b550fc4c-2ebc-43bb-9e68-fa1d5f21db07",
   "metadata": {},
   "source": [
    "### Задание 2"
   ]
  },
  {
   "cell_type": "code",
   "execution_count": 58,
   "id": "b0622f6b-28f4-439c-a423-a405980422f4",
   "metadata": {},
   "outputs": [
    {
     "name": "stdout",
     "output_type": "stream",
     "text": [
      "Идеальные пары:\n",
      "Richard  и  Trisha\n",
      "Arthur  и  Emma\n",
      "John  и  Kira\n",
      "Alex  и  Liza\n",
      "Peter  и  Kate\n"
     ]
    }
   ],
   "source": [
    "boys = ['Peter', 'Alex', 'John', 'Arthur', 'Richard']\n",
    "girls = ['Kate', 'Liza', 'Kira', 'Emma', 'Trisha']\n",
    "if len(boys) != len(girls):\n",
    "    print(\"Внимание, кто-то может остаться без пары!\")\n",
    "else:\n",
    "    print(\"Идеальные пары:\")\n",
    "    pairs = list(zip(boys, girls))\n",
    "    count_pairs = len(pairs)\n",
    "    while count_pairs > 0:\n",
    "        count_pairs -= 1\n",
    "        print(pairs[count_pairs][0], \" и \", pairs[count_pairs][1])\n",
    "        \n",
    "\n"
   ]
  },
  {
   "cell_type": "code",
   "execution_count": null,
   "id": "99537a99-35ce-4202-ab50-f3379f92cbb4",
   "metadata": {},
   "outputs": [],
   "source": []
  }
 ],
 "metadata": {
  "kernelspec": {
   "display_name": "Python 3 (ipykernel)",
   "language": "python",
   "name": "python3"
  },
  "language_info": {
   "codemirror_mode": {
    "name": "ipython",
    "version": 3
   },
   "file_extension": ".py",
   "mimetype": "text/x-python",
   "name": "python",
   "nbconvert_exporter": "python",
   "pygments_lexer": "ipython3",
   "version": "3.12.7"
  }
 },
 "nbformat": 4,
 "nbformat_minor": 5
}
